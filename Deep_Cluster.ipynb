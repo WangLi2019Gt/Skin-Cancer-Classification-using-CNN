{
 "cells": [
  {
   "cell_type": "code",
   "execution_count": 1,
   "metadata": {},
   "outputs": [],
   "source": [
    "%matplotlib inline\n",
    "import matplotlib.pyplot as plt\n",
    "import numpy as np\n",
    "import pandas as pd\n",
    "import os\n",
    "from glob import glob\n",
    "import seaborn as sns\n",
    "from PIL import Image\n",
    "np.random.seed(123)\n",
    "from sklearn.preprocessing import label_binarize\n",
    "from sklearn.metrics import confusion_matrix\n",
    "import itertools\n",
    "from scipy.optimize import linear_sum_assignment\n",
    "import os\n",
    "import tensorflow as tf\n",
    "import tensorflow.keras as keras\n",
    "from tensorflow.keras.utils import to_categorical # used for converting labels to one-hot-encoding\n",
    "from tensorflow.keras import Sequential\n",
    "from tensorflow.keras.layers import Input,Dense, Dropout, Flatten, Conv2D, MaxPool2D,Conv2DTranspose,Reshape\n",
    "from tensorflow.keras import backend as K\n",
    "from tensorflow.keras.models import Model\n",
    "import itertools\n",
    "from tensorflow.keras.layers import BatchNormalization\n",
    "\n",
    "from tensorflow.keras.optimizers import Adam\n",
    "from tensorflow.keras.preprocessing.image import ImageDataGenerator\n",
    "from tensorflow.keras.callbacks import ReduceLROnPlateau\n",
    "from sklearn.model_selection import train_test_split\n",
    "from sklearn.cluster import KMeans"
   ]
  },
  {
   "cell_type": "code",
   "execution_count": 2,
   "metadata": {},
   "outputs": [],
   "source": [
    "x_train = np.load('x_train.npy')\n",
    "x_test = np.load('x_test.npy')\n",
    "y_train = np.load('y_train.npy')\n",
    "y_test = np.load('y_test.npy')\n",
    "y_test = [np.argmax(y)for y in y_test]\n",
    "y_train = [np.argmax(y)for y in y_train]\n",
    "x = np.concatenate((x_train, x_test))\n",
    "y = np.concatenate((y_train, y_test))"
   ]
  },
  {
   "cell_type": "code",
   "execution_count": 3,
   "metadata": {},
   "outputs": [],
   "source": [
    "def acc(y_true, y_pred):\n",
    "    \"\"\"\n",
    "    Calculate clustering accuracy. Require scikit-learn installed\n",
    "    # Arguments\n",
    "        y: true labels, numpy.array with shape `(n_samples,)`\n",
    "        y_pred: predicted labels, numpy.array with shape `(n_samples,)`\n",
    "    # Return\n",
    "        accuracy, in [0,1]\n",
    "    \"\"\"\n",
    "    y_true = y_true.astype(np.int64)\n",
    "    assert y_pred.size == y_true.size\n",
    "    D = max(y_pred.max(), y_true.max()) + 1\n",
    "    w = np.zeros((D, D), dtype=np.int64)\n",
    "    for i in range(y_pred.size):\n",
    "        w[y_pred[i], y_true[i]] += 1\n",
    "    ind = linear_sum_assignment(w.max() - w)\n",
    "    ind = np.asarray(ind)\n",
    "    ind = np.transpose(ind)\n",
    "    return sum([w[i, j] for i, j in ind]) * 1.0 / y_pred.size"
   ]
  },
  {
   "cell_type": "code",
   "execution_count": 4,
   "metadata": {},
   "outputs": [],
   "source": [
    "n_clusters = len(np.unique(y))\n",
    "def DeepCluster(input_shape=(75, 100, 3), filters=[32, 64, 128, 7]):\n",
    "    input_img = Input(shape=input_shape)\n",
    "\n",
    "    x = Conv2D(filters[0],kernel_size=(3, 3), padding='same', activation='relu', name='conv1', input_shape=input_shape)(input_img)\n",
    "    x = Conv2D(filters[0], kernel_size=(3, 3), padding='same', activation='relu', name='conv2')(x)\n",
    "    x = MaxPool2D(pool_size = (2, 2))(x)\n",
    "    \n",
    "    x = Conv2D(filters[1], kernel_size=(3, 3), padding='same', activation='relu', name='conv3')(x)\n",
    "    x = Conv2D(filters[1], kernel_size=(3, 3), padding='same', activation='relu', name='conv4')(x)\n",
    "    x = MaxPool2D(pool_size = (2, 2))(x)\n",
    "    \n",
    "    x = Conv2D(filters[2], kernel_size=(3, 3), padding='same', activation='relu', name='conv5')(x)\n",
    "    x = Conv2D(filters[2], kernel_size=(3, 3), padding='same', activation='relu', name='conv6')(x)\n",
    "    x = MaxPool2D(pool_size = (2, 2))(x)\n",
    "    \n",
    "    x = Flatten()(x)\n",
    "    conv_output = Dense(filters[2], activation='relu')(x)\n",
    "    classifier = Dense(filters[3], activation='softmax')(conv_output)\n",
    "    return  [Model(inputs=input_img, outputs=conv_output, name='conv_output'),Model(inputs=input_img, outputs=classifier, name='classifier')]"
   ]
  },
  {
   "cell_type": "code",
   "execution_count": 5,
   "metadata": {
    "scrolled": true
   },
   "outputs": [
    {
     "name": "stdout",
     "output_type": "stream",
     "text": [
      "Model: \"conv_output\"\n",
      "_________________________________________________________________\n",
      "Layer (type)                 Output Shape              Param #   \n",
      "=================================================================\n",
      "input_1 (InputLayer)         [(None, 75, 100, 3)]      0         \n",
      "_________________________________________________________________\n",
      "conv1 (Conv2D)               (None, 75, 100, 32)       896       \n",
      "_________________________________________________________________\n",
      "conv2 (Conv2D)               (None, 75, 100, 32)       9248      \n",
      "_________________________________________________________________\n",
      "max_pooling2d (MaxPooling2D) (None, 37, 50, 32)        0         \n",
      "_________________________________________________________________\n",
      "conv3 (Conv2D)               (None, 37, 50, 64)        18496     \n",
      "_________________________________________________________________\n",
      "conv4 (Conv2D)               (None, 37, 50, 64)        36928     \n",
      "_________________________________________________________________\n",
      "max_pooling2d_1 (MaxPooling2 (None, 18, 25, 64)        0         \n",
      "_________________________________________________________________\n",
      "conv5 (Conv2D)               (None, 18, 25, 128)       73856     \n",
      "_________________________________________________________________\n",
      "conv6 (Conv2D)               (None, 18, 25, 128)       147584    \n",
      "_________________________________________________________________\n",
      "max_pooling2d_2 (MaxPooling2 (None, 9, 12, 128)        0         \n",
      "_________________________________________________________________\n",
      "flatten (Flatten)            (None, 13824)             0         \n",
      "_________________________________________________________________\n",
      "dense (Dense)                (None, 128)               1769600   \n",
      "=================================================================\n",
      "Total params: 2,056,608\n",
      "Trainable params: 2,056,608\n",
      "Non-trainable params: 0\n",
      "_________________________________________________________________\n",
      "Model: \"classifier\"\n",
      "_________________________________________________________________\n",
      "Layer (type)                 Output Shape              Param #   \n",
      "=================================================================\n",
      "input_1 (InputLayer)         [(None, 75, 100, 3)]      0         \n",
      "_________________________________________________________________\n",
      "conv1 (Conv2D)               (None, 75, 100, 32)       896       \n",
      "_________________________________________________________________\n",
      "conv2 (Conv2D)               (None, 75, 100, 32)       9248      \n",
      "_________________________________________________________________\n",
      "max_pooling2d (MaxPooling2D) (None, 37, 50, 32)        0         \n",
      "_________________________________________________________________\n",
      "conv3 (Conv2D)               (None, 37, 50, 64)        18496     \n",
      "_________________________________________________________________\n",
      "conv4 (Conv2D)               (None, 37, 50, 64)        36928     \n",
      "_________________________________________________________________\n",
      "max_pooling2d_1 (MaxPooling2 (None, 18, 25, 64)        0         \n",
      "_________________________________________________________________\n",
      "conv5 (Conv2D)               (None, 18, 25, 128)       73856     \n",
      "_________________________________________________________________\n",
      "conv6 (Conv2D)               (None, 18, 25, 128)       147584    \n",
      "_________________________________________________________________\n",
      "max_pooling2d_2 (MaxPooling2 (None, 9, 12, 128)        0         \n",
      "_________________________________________________________________\n",
      "flatten (Flatten)            (None, 13824)             0         \n",
      "_________________________________________________________________\n",
      "dense (Dense)                (None, 128)               1769600   \n",
      "_________________________________________________________________\n",
      "dense_1 (Dense)              (None, 7)                 903       \n",
      "=================================================================\n",
      "Total params: 2,057,511\n",
      "Trainable params: 2,057,511\n",
      "Non-trainable params: 0\n",
      "_________________________________________________________________\n"
     ]
    }
   ],
   "source": [
    "conv_net, Deep_cluster = DeepCluster()\n",
    "conv_net.summary()\n",
    "Deep_cluster.summary()"
   ]
  },
  {
   "cell_type": "code",
   "execution_count": 13,
   "metadata": {},
   "outputs": [],
   "source": [
    "Deep_cluster.compile(optimizer=tf.keras.optimizers.SGD(0.01, 0.9), loss='kld')"
   ]
  },
  {
   "cell_type": "code",
   "execution_count": 14,
   "metadata": {},
   "outputs": [],
   "source": [
    "def target_distribution(q):\n",
    "    temp =1/(1+q**2)\n",
    "    temp=temp.transpose()/temp.sum(1)\n",
    "    temp=temp.transpose()\n",
    "    return temp"
   ]
  },
  {
   "cell_type": "code",
   "execution_count": 17,
   "metadata": {
    "scrolled": true
   },
   "outputs": [
    {
     "data": {
      "text/plain": [
       "0.3175237144283575"
      ]
     },
     "execution_count": 17,
     "metadata": {},
     "output_type": "execute_result"
    }
   ],
   "source": [
    "from sklearn.decomposition import PCA\n",
    "x_1 = x.reshape((x.shape[0], -1))\n",
    "pca = PCA(n_components=128)\n",
    "x_2 = pca.fit_transform(x_1)\n",
    "kmeans = KMeans(n_clusters=n_clusters)\n",
    "y_pred_last = kmeans.fit_predict(x_2)\n",
    "acc(y,y_pred_last)"
   ]
  },
  {
   "cell_type": "code",
   "execution_count": 18,
   "metadata": {
    "scrolled": true
   },
   "outputs": [
    {
     "name": "stdout",
     "output_type": "stream",
     "text": [
      "7\n",
      "Iter 0:  loss=0.000000\n",
      "Iter 50:  loss=0.000140\n",
      "Iter 100:  loss=0.000050\n",
      "Iter 150:  loss=0.000030\n",
      "Iter 200:  loss=0.000030\n",
      "Iter 250:  loss=0.000030\n",
      "Iter 300:  loss=0.000030\n",
      "Iter 350:  loss=0.000030\n",
      "Iter 400:  loss=0.000010\n"
     ]
    }
   ],
   "source": [
    "from sklearn.metrics import normalized_mutual_info_score, adjusted_rand_score\n",
    "nmi = normalized_mutual_info_score\n",
    "ari = adjusted_rand_score\n",
    "print(n_clusters)\n",
    "loss = 0\n",
    "index = 0\n",
    "maxiter = 3000\n",
    "batch_size = 10\n",
    "update_interval = 50\n",
    "index_array = np.arange(x.shape[0])\n",
    "\n",
    "for ite in range(int(maxiter)):\n",
    "    if ite % update_interval == 0:\n",
    "        temp_feature = conv_net.predict(x, verbose=0)\n",
    "        y_pred = kmeans.predict(temp_feature)\n",
    "        q = kmeans.transform(temp_feature)\n",
    "        p = target_distribution(q)# update the auxiliary target distribution p\n",
    "        # evaluate the clustering performance\n",
    "        if y is not None:\n",
    "            loss = np.round(loss, 5)\n",
    "            print('Iter %d:  loss=%f' % (ite,loss))\n",
    "        # check stop criterion\n",
    "        delta_label = np.sum(y_pred != y_pred_last).astype(np.float32) / y_pred.shape[0]\n",
    "        y_pred_last = np.copy(y_pred)\n",
    "        if (ite>0 and loss<0.00002):\n",
    "            break\n",
    "    idx = index_array[index * batch_size: min((index+1) * batch_size, x.shape[0])]\n",
    "    loss = Deep_cluster.train_on_batch(x=x[idx], y=p[idx])\n",
    "    index = index + 1 if (index + 1) * batch_size <= x.shape[0] else 0\n",
    "\n",
    "Deep_cluster.save_weights('./Deep_cluster_model_final.h5')"
   ]
  },
  {
   "cell_type": "code",
   "execution_count": 19,
   "metadata": {},
   "outputs": [
    {
     "name": "stdout",
     "output_type": "stream",
     "text": [
      "Acc = 0.66950, nmi = 5.87500, ari = 0.00000  ; loss= 1e-05\n"
     ]
    },
    {
     "name": "stderr",
     "output_type": "stream",
     "text": [
      "/home/wangligt/environments/tf2_py3/lib/python3.6/site-packages/sklearn/metrics/cluster/supervised.py:859: FutureWarning: The behavior of NMI will change in version 0.22. To match the behavior of 'v_measure_score', NMI will use average_method='arithmetic' by default.\n",
      "  FutureWarning)\n"
     ]
    }
   ],
   "source": [
    "# Eval.\n",
    "q = Deep_cluster.predict(x, verbose=0)\n",
    "p = target_distribution(q)  # update the auxiliary target distribution p\n",
    "# evaluate the clustering performance\n",
    "y_pred = q.argmax(1)\n",
    "if y is not None:\n",
    "    acc_value = np.round(acc(y, y_pred), 5)\n",
    "    nmi_value = np.round(nmi(y, y_pred), 5)\n",
    "    ari_value = np.round(ari(y, y_pred), 5)\n",
    "    loss_value = np.round(loss, 5)\n",
    "    print('Acc = %.5f, nmi = %.5f, ari = %.5f' % (acc_value, nmi_value, ari_value), ' ; loss=', loss)"
   ]
  },
  {
   "cell_type": "code",
   "execution_count": null,
   "metadata": {},
   "outputs": [],
   "source": []
  },
  {
   "cell_type": "code",
   "execution_count": null,
   "metadata": {},
   "outputs": [],
   "source": []
  }
 ],
 "metadata": {
  "kernelspec": {
   "display_name": "Python 3",
   "language": "python",
   "name": "python3"
  },
  "language_info": {
   "codemirror_mode": {
    "name": "ipython",
    "version": 3
   },
   "file_extension": ".py",
   "mimetype": "text/x-python",
   "name": "python",
   "nbconvert_exporter": "python",
   "pygments_lexer": "ipython3",
   "version": "3.6.8"
  }
 },
 "nbformat": 4,
 "nbformat_minor": 1
}
