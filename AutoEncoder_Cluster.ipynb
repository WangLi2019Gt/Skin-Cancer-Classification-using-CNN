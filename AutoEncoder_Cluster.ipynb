{
 "cells": [
  {
   "cell_type": "code",
   "execution_count": 32,
   "metadata": {},
   "outputs": [],
   "source": [
    "%matplotlib inline\n",
    "import matplotlib.pyplot as plt\n",
    "import numpy as np\n",
    "import pandas as pd\n",
    "import os\n",
    "from glob import glob\n",
    "import seaborn as sns\n",
    "from PIL import Image\n",
    "np.random.seed(123)\n",
    "from sklearn.preprocessing import label_binarize\n",
    "from sklearn.metrics import confusion_matrix\n",
    "import itertools\n",
    "from scipy.optimize import linear_sum_assignment\n",
    "import os\n",
    "import tensorflow as tf\n",
    "import tensorflow.keras as keras\n",
    "from tensorflow.keras.utils import to_categorical # used for converting labels to one-hot-encoding\n",
    "from tensorflow.keras import Sequential\n",
    "from tensorflow.keras.layers import Input,Dense, Dropout, Flatten, Conv2D, MaxPool2D,Conv2DTranspose,Reshape\n",
    "from tensorflow.keras import backend as K\n",
    "from tensorflow.keras.models import Model\n",
    "import itertools\n",
    "from tensorflow.keras.layers import BatchNormalization\n",
    "\n",
    "from tensorflow.keras.optimizers import Adam\n",
    "from tensorflow.keras.preprocessing.image import ImageDataGenerator\n",
    "from tensorflow.keras.callbacks import ReduceLROnPlateau\n",
    "from sklearn.model_selection import train_test_split\n",
    "from sklearn.cluster import KMeans"
   ]
  },
  {
   "cell_type": "code",
   "execution_count": 33,
   "metadata": {},
   "outputs": [
    {
     "name": "stdout",
     "output_type": "stream",
     "text": [
      "(10015, 76, 100, 3)\n"
     ]
    }
   ],
   "source": [
    "x_train = np.load('x_train.npy')\n",
    "x_test = np.load('x_test.npy')\n",
    "y_train = np.load('y_train.npy')\n",
    "y_test = np.load('y_test.npy')\n",
    "y_test = [np.argmax(y)for y in y_test]\n",
    "y_train = [np.argmax(y)for y in y_train]\n",
    "x = np.concatenate((x_train, x_test))\n",
    "y = np.concatenate((y_train, y_test))\n",
    "x_copy=np.zeros((10015,76,100,3))\n",
    "for i in range(0,len(x)):\n",
    "    x_temp=np.append(x[i],x[i][-1])\n",
    "    x_temp=x_temp.reshape((76,100,3))\n",
    "    x_copy[i]=x_temp.copy()\n",
    "print(x_copy.shape)\n",
    "Train=False"
   ]
  },
  {
   "cell_type": "code",
   "execution_count": 34,
   "metadata": {},
   "outputs": [],
   "source": [
    "def acc(y_true, y_pred):\n",
    "    \"\"\"\n",
    "    Calculate clustering accuracy. Require scikit-learn installed\n",
    "    # Arguments\n",
    "        y: true labels, numpy.array with shape `(n_samples,)`\n",
    "        y_pred: predicted labels, numpy.array with shape `(n_samples,)`\n",
    "    # Return\n",
    "        accuracy, in [0,1]\n",
    "    \"\"\"\n",
    "    y_true = y_true.astype(np.int64)\n",
    "    assert y_pred.size == y_true.size\n",
    "    D = max(y_pred.max(), y_true.max()) + 1\n",
    "    w = np.zeros((D, D), dtype=np.int64)\n",
    "    for i in range(y_pred.size):\n",
    "        w[y_pred[i], y_true[i]] += 1\n",
    "    ind = linear_sum_assignment(w.max() - w)\n",
    "    ind = np.asarray(ind)\n",
    "    ind = np.transpose(ind)\n",
    "    return sum([w[i, j] for i, j in ind]) * 1.0 / y_pred.size"
   ]
  },
  {
   "cell_type": "code",
   "execution_count": 35,
   "metadata": {},
   "outputs": [],
   "source": [
    "def autoencoderConv2D(input_shape=(76, 100, 3), filters=[32, 64, 128, 10]):\n",
    "    input_img = Input(shape=input_shape)\n",
    "    if input_shape[0] % 8 == 0:\n",
    "        pad3 = 'same'\n",
    "    else:\n",
    "        pad3 = 'valid'\n",
    "\n",
    "    x = Conv2D(filters[0], 5, strides=2, padding='same', activation='relu', name='conv1', input_shape=input_shape)(input_img)\n",
    "\n",
    "    x = Conv2D(filters[1], 5, strides=2, padding='same', activation='relu', name='conv2')(x)\n",
    "\n",
    "    x = Conv2D(filters[2], 3, strides=2, padding=pad3, activation='relu', name='conv3')(x)\n",
    "\n",
    "    x = Flatten()(x)\n",
    "    encoded = Dense(units=filters[3], name='embedding')(x)\n",
    "    x = Dense(units=filters[2]*int(input_shape[0]/8)*int(input_shape[1]/8), activation='relu')(encoded)\n",
    "\n",
    "    x = Reshape((int(input_shape[0]/8), int(input_shape[1]/8), filters[2]))(x)\n",
    "    x = Conv2DTranspose(filters[1], 3, strides=2, padding=pad3, activation='relu', name='deconv3')(x)\n",
    "\n",
    "    x = Conv2DTranspose(filters[0], 5, strides=2, padding='same', activation='relu', name='deconv2')(x)\n",
    "\n",
    "    decoded = Conv2DTranspose(input_shape[2], 5, strides=2, padding='same', name='deconv1')(x)\n",
    "    return Model(inputs=input_img, outputs=decoded, name='AE'), Model(inputs=input_img, outputs=encoded, name='encoder')"
   ]
  },
  {
   "cell_type": "code",
   "execution_count": 36,
   "metadata": {
    "scrolled": false
   },
   "outputs": [
    {
     "name": "stdout",
     "output_type": "stream",
     "text": [
      "Model: \"AE\"\n",
      "_________________________________________________________________\n",
      "Layer (type)                 Output Shape              Param #   \n",
      "=================================================================\n",
      "input_6 (InputLayer)         [(None, 76, 100, 3)]      0         \n",
      "_________________________________________________________________\n",
      "conv1 (Conv2D)               (None, 38, 50, 32)        2432      \n",
      "_________________________________________________________________\n",
      "conv2 (Conv2D)               (None, 19, 25, 64)        51264     \n",
      "_________________________________________________________________\n",
      "conv3 (Conv2D)               (None, 9, 12, 128)        73856     \n",
      "_________________________________________________________________\n",
      "flatten_5 (Flatten)          (None, 13824)             0         \n",
      "_________________________________________________________________\n",
      "embedding (Dense)            (None, 10)                138250    \n",
      "_________________________________________________________________\n",
      "dense_5 (Dense)              (None, 13824)             152064    \n",
      "_________________________________________________________________\n",
      "reshape_5 (Reshape)          (None, 9, 12, 128)        0         \n",
      "_________________________________________________________________\n",
      "deconv3 (Conv2DTranspose)    (None, 19, 25, 64)        73792     \n",
      "_________________________________________________________________\n",
      "deconv2 (Conv2DTranspose)    (None, 38, 50, 32)        51232     \n",
      "_________________________________________________________________\n",
      "deconv1 (Conv2DTranspose)    (None, 76, 100, 3)        2403      \n",
      "=================================================================\n",
      "Total params: 545,293\n",
      "Trainable params: 545,293\n",
      "Non-trainable params: 0\n",
      "_________________________________________________________________\n"
     ]
    }
   ],
   "source": [
    "autoencoder, encoder = autoencoderConv2D()\n",
    "autoencoder.summary()\n",
    "if(Train==True):\n",
    "    autoencoder.compile(optimizer='adam', loss='mse')\n",
    "    autoencoder.fit(x_copy,x_copy, batch_size=20, epochs=200)\n",
    "    autoencoder.save_weights('./conv_ae_weights.h5')"
   ]
  },
  {
   "cell_type": "code",
   "execution_count": 37,
   "metadata": {},
   "outputs": [],
   "source": [
    "autoencoder.load_weights('./conv_ae_weights.h5')"
   ]
  },
  {
   "cell_type": "code",
   "execution_count": 38,
   "metadata": {},
   "outputs": [],
   "source": [
    "class ClusteringLayer(keras.layers.Layer):\n",
    "    \"\"\"\n",
    "    Clustering layer converts input sample (feature) to soft label, i.e. a vector that represents the probability of the\n",
    "    sample belonging to each cluster. The probability is calculated with student's t-distribution.\n",
    "\n",
    "    # Example\n",
    "    ```\n",
    "        model.add(ClusteringLayer(n_clusters=10))\n",
    "    ```\n",
    "    # Arguments\n",
    "        n_clusters: number of clusters.\n",
    "        weights: list of Numpy array with shape `(n_clusters, n_features)` witch represents the initial cluster centers.\n",
    "        alpha: degrees of freedom parameter in Student's t-distribution. Default to 1.0.\n",
    "    # Input shape\n",
    "        2D tensor with shape: `(n_samples, n_features)`.\n",
    "    # Output shape\n",
    "        2D tensor with shape: `(n_samples, n_clusters)`.\n",
    "    \"\"\"\n",
    "\n",
    "    def __init__(self, n_clusters, weights=None, alpha=1.0, **kwargs):\n",
    "        if 'input_shape' not in kwargs and 'input_dim' in kwargs:\n",
    "            kwargs['input_shape'] = (kwargs.pop('input_dim'),)\n",
    "        super(ClusteringLayer, self).__init__(**kwargs)\n",
    "        self.n_clusters = n_clusters\n",
    "        self.alpha = alpha\n",
    "        self.initial_weights = weights\n",
    "        self.input_spec = keras.layers.InputSpec(ndim=2)\n",
    "\n",
    "    def build(self, input_shape):\n",
    "        assert len(input_shape) == 2\n",
    "        input_dim = input_shape[1]\n",
    "        self.input_spec = keras.layers.InputSpec(dtype=K.floatx(), shape=(None, input_dim))\n",
    "        self.clusters = self.add_weight(shape=(self.n_clusters, input_dim), initializer='glorot_uniform', name='clusters')\n",
    "        if self.initial_weights is not None:\n",
    "            self.set_weights(self.initial_weights)\n",
    "            del self.initial_weights\n",
    "        self.built = True\n",
    "\n",
    "    def call(self, inputs, **kwargs):\n",
    "        \"\"\" student t-distribution, as same as used in t-SNE algorithm.\n",
    "         Measure the similarity between embedded point z_i and centroid µ_j.\n",
    "                 q_ij = 1/(1+dist(x_i, µ_j)^2), then normalize it.\n",
    "                 q_ij can be interpreted as the probability of assigning sample i to cluster j.\n",
    "                 (i.e., a soft assignment)\n",
    "        Arguments:\n",
    "            inputs: the variable containing data, shape=(n_samples, n_features)\n",
    "        Return:\n",
    "            q: student's t-distribution, or soft labels for each sample. shape=(n_samples, n_clusters)\n",
    "        \"\"\"\n",
    "        q = 1.0 / (1.0 + (K.sum(K.square(K.expand_dims(inputs, axis=1) - self.clusters), axis=2) / self.alpha))\n",
    "        q **= (self.alpha + 1.0) / 2.0\n",
    "        q = K.transpose(K.transpose(q) / K.sum(q, axis=1)) # Make sure each sample's 10 values add up to 1.\n",
    "        return q\n",
    "\n",
    "    def compute_output_shape(self, input_shape):\n",
    "        assert input_shape and len(input_shape) == 2\n",
    "        return input_shape[0], self.n_clusters\n",
    "\n",
    "    def get_config(self):\n",
    "        config = {'n_clusters': self.n_clusters}\n",
    "        base_config = super(ClusteringLayer, self).get_config()\n",
    "        return dict(list(base_config.items()) + list(config.items()))"
   ]
  },
  {
   "cell_type": "code",
   "execution_count": 39,
   "metadata": {},
   "outputs": [
    {
     "name": "stdout",
     "output_type": "stream",
     "text": [
      "WARNING:tensorflow:Entity <bound method ClusteringLayer.call of <__main__.ClusteringLayer object at 0x7efc83c65e80>> could not be transformed and will be executed as-is. Please report this to the AutoGraph team. When filing the bug, set the verbosity to 10 (on Linux, `export AUTOGRAPH_VERBOSITY=10`) and attach the full output. Cause: Bad argument number for Name: 3, expecting 4\n",
      "WARNING: Entity <bound method ClusteringLayer.call of <__main__.ClusteringLayer object at 0x7efc83c65e80>> could not be transformed and will be executed as-is. Please report this to the AutoGraph team. When filing the bug, set the verbosity to 10 (on Linux, `export AUTOGRAPH_VERBOSITY=10`) and attach the full output. Cause: Bad argument number for Name: 3, expecting 4\n"
     ]
    }
   ],
   "source": [
    "n_clusters = len(np.unique(y))\n",
    "clustering_layer = ClusteringLayer(n_clusters=n_clusters,name='clustering')(encoder.output)\n",
    "model = Model(inputs=encoder.input, outputs=clustering_layer)\n",
    "model.compile(optimizer=tf.keras.optimizers.SGD(0.001, 0.9), loss='kld')"
   ]
  },
  {
   "cell_type": "code",
   "execution_count": 40,
   "metadata": {},
   "outputs": [],
   "source": [
    "def target_distribution(q):\n",
    "    weight = q ** 2 / q.sum(0)\n",
    "    return (weight.T / weight.sum(1)).T"
   ]
  },
  {
   "cell_type": "code",
   "execution_count": 10,
   "metadata": {
    "scrolled": true
   },
   "outputs": [
    {
     "name": "stdout",
     "output_type": "stream",
     "text": [
      "7\n",
      "Iter 0: accuracy = 0.24793,  ; loss=0.000000\n",
      "WARNING:tensorflow:From /home/liqiang1102/environments/tf2_python3/lib/python3.6/site-packages/tensorflow_core/python/ops/math_grad.py:1394: where (from tensorflow.python.ops.array_ops) is deprecated and will be removed in a future version.\n",
      "Instructions for updating:\n",
      "Use tf.where in 2.0, which has the same broadcast rule as np.where\n",
      "Iter 30: accuracy = 0.26041,  ; loss=0.236610\n",
      "Iter 60: accuracy = 0.31792,  ; loss=0.119130\n",
      "Iter 90: accuracy = 0.30954,  ; loss=0.023910\n",
      "Iter 120: accuracy = 0.31033,  ; loss=0.006760\n",
      "Iter 150: accuracy = 0.26420,  ; loss=0.095860\n",
      "Iter 180: accuracy = 0.33550,  ; loss=0.043010\n",
      "Iter 210: accuracy = 0.27279,  ; loss=0.257550\n",
      "Iter 240: accuracy = 0.28238,  ; loss=0.012980\n",
      "Iter 270: accuracy = 0.27389,  ; loss=0.124400\n",
      "Iter 300: accuracy = 0.27299,  ; loss=0.194690\n",
      "Iter 330: accuracy = 0.30674,  ; loss=0.124130\n",
      "Iter 360: accuracy = 0.35936,  ; loss=0.230390\n",
      "Iter 390: accuracy = 0.40589,  ; loss=0.191240\n",
      "Iter 420: accuracy = 0.33660,  ; loss=0.092970\n",
      "Iter 450: accuracy = 0.27449,  ; loss=0.063930\n",
      "Iter 480: accuracy = 0.41817,  ; loss=0.168750\n",
      "Iter 510: accuracy = 0.41408,  ; loss=0.108460\n",
      "Iter 540: accuracy = 0.42926,  ; loss=0.274360\n",
      "Iter 570: accuracy = 0.45322,  ; loss=0.110450\n",
      "Iter 600: accuracy = 0.43884,  ; loss=0.110000\n",
      "Iter 630: accuracy = 0.45152,  ; loss=0.016350\n",
      "Iter 660: accuracy = 0.47409,  ; loss=0.060810\n",
      "Iter 690: accuracy = 0.48108,  ; loss=0.130830\n",
      "Iter 720: accuracy = 0.48447,  ; loss=0.063260\n",
      "Iter 750: accuracy = 0.47409,  ; loss=0.480260\n",
      "Iter 780: accuracy = 0.39001,  ; loss=0.007890\n",
      "Iter 810: accuracy = 0.37444,  ; loss=0.075630\n",
      "Iter 840: accuracy = 0.37993,  ; loss=0.352580\n",
      "Iter 870: accuracy = 0.32132,  ; loss=0.221090\n",
      "Iter 900: accuracy = 0.32232,  ; loss=0.134530\n",
      "Iter 930: accuracy = 0.29166,  ; loss=0.059830\n",
      "Iter 960: accuracy = 0.34309,  ; loss=0.182800\n",
      "Iter 990: accuracy = 0.28477,  ; loss=0.068540\n",
      "Iter 1020: accuracy = 0.33190,  ; loss=0.162010\n",
      "Iter 1050: accuracy = 0.47049,  ; loss=0.170510\n",
      "Iter 1080: accuracy = 0.48347,  ; loss=0.118820\n",
      "Iter 1110: accuracy = 0.47918,  ; loss=0.029360\n",
      "Iter 1140: accuracy = 0.47129,  ; loss=0.064240\n",
      "Iter 1170: accuracy = 0.47519,  ; loss=0.108720\n",
      "Iter 1200: accuracy = 0.48288,  ; loss=0.073720\n",
      "Iter 1230: accuracy = 0.47868,  ; loss=0.265530\n",
      "Iter 1260: accuracy = 0.48437,  ; loss=0.156510\n",
      "Iter 1290: accuracy = 0.48967,  ; loss=0.038440\n",
      "Iter 1320: accuracy = 0.49126,  ; loss=0.236090\n",
      "Iter 1350: accuracy = 0.49016,  ; loss=0.199000\n",
      "Iter 1380: accuracy = 0.49136,  ; loss=0.319470\n",
      "Iter 1410: accuracy = 0.48557,  ; loss=0.153680\n",
      "Iter 1440: accuracy = 0.48917,  ; loss=0.111660\n",
      "Iter 1470: accuracy = 0.47499,  ; loss=0.263230\n",
      "Iter 1500: accuracy = 0.48347,  ; loss=0.122310\n",
      "Iter 1530: accuracy = 0.48897,  ; loss=0.074050\n",
      "Iter 1560: accuracy = 0.48527,  ; loss=0.187880\n",
      "Iter 1590: accuracy = 0.48218,  ; loss=0.087590\n",
      "Iter 1620: accuracy = 0.48707,  ; loss=0.102810\n",
      "Iter 1650: accuracy = 0.46920,  ; loss=0.096730\n",
      "Iter 1680: accuracy = 0.47429,  ; loss=0.090710\n",
      "Iter 1710: accuracy = 0.47299,  ; loss=0.081950\n",
      "Iter 1740: accuracy = 0.47019,  ; loss=0.080900\n",
      "Iter 1770: accuracy = 0.48607,  ; loss=0.131280\n",
      "Iter 1800: accuracy = 0.48747,  ; loss=0.117030\n",
      "Iter 1830: accuracy = 0.46430,  ; loss=0.098080\n",
      "Iter 1860: accuracy = 0.47409,  ; loss=0.086510\n",
      "Iter 1890: accuracy = 0.47089,  ; loss=0.261480\n",
      "Iter 1920: accuracy = 0.46640,  ; loss=0.143960\n",
      "Iter 1950: accuracy = 0.45262,  ; loss=0.062700\n",
      "Iter 1980: accuracy = 0.45781,  ; loss=0.085320\n"
     ]
    }
   ],
   "source": [
    "print(n_clusters)\n",
    "kmeans = KMeans(n_clusters=n_clusters, n_init=20)\n",
    "y_pred = kmeans.fit_predict(encoder.predict(x_copy))\n",
    "y_pred_last = np.copy(y_pred)\n",
    "model.get_layer(name='clustering').set_weights([kmeans.cluster_centers_])\n",
    "loss = 0\n",
    "index = 0\n",
    "maxiter = 2000\n",
    "batch_size = 1\n",
    "update_interval = 30\n",
    "index_array = np.arange(x_copy.shape[0])\n",
    "tol = 0.01 # tolerance threshold to stop training\n",
    "acc_array=np.zeros(67)\n",
    "i=0\n",
    "for ite in range(int(maxiter)):\n",
    "    if ite % update_interval == 0:\n",
    "        q = model.predict(x_copy, verbose=0)\n",
    "        p = target_distribution(q)  # update the auxiliary target distribution p\n",
    "        # evaluate the clustering performance\n",
    "        y_pred = q.argmax(1)\n",
    "        if y is not None:\n",
    "            accuracy = np.round(acc(y, y_pred), 5)\n",
    "            loss = np.round(loss, 5)\n",
    "            print('Iter %d: accuracy = %.5f,' % (ite, accuracy), ' ; loss=%f'%(loss))\n",
    "            acc_array[i]= accuracy\n",
    "            i=i+1\n",
    "        # check stop criterion\n",
    "        delta_label = np.sum(y_pred != y_pred_last).astype(np.float32) / y_pred.shape[0]\n",
    "        y_pred_last = np.copy(y_pred)\n",
    "        if (ite > 0 and delta_label < tol):\n",
    "            if(delta_label < tol):\n",
    "                print('delta_label ', delta_label, '< tol ', tol)\n",
    "                print('Reached tolerance threshold. Stopping training.')\n",
    "            break\n",
    "    idx = index_array[index * batch_size: min((index+1) * batch_size, x_copy.shape[0])]\n",
    "    loss = model.train_on_batch(x=x_copy[idx], y=p[idx])\n",
    "    index = index + 1 if (index + 1) * batch_size <= x_copy.shape[0] else 0\n",
    "\n",
    "model.save_weights('./conv_DEC_model_final.h5')"
   ]
  },
  {
   "cell_type": "code",
   "execution_count": 14,
   "metadata": {
    "scrolled": true
   },
   "outputs": [
    {
     "data": {
      "image/png": "[encoded data removed]",
      "text/plain": [
       "<Figure size 432x288 with 1 Axes>"
      ]
     },
     "metadata": {
      "needs_background": "light"
     },
     "output_type": "display_data"
    }
   ],
   "source": [
    "ite=np.linspace(0,1980,67)\n",
    "plt.plot(ite,acc_array)\n",
    "plt.show()"
   ]
  }
 ],
 "metadata": {
  "kernelspec": {
   "display_name": "Python 3",
   "language": "python",
   "name": "python3"
  },
  "language_info": {
   "codemirror_mode": {
    "name": "ipython",
    "version": 3
   },
   "file_extension": ".py",
   "mimetype": "text/x-python",
   "name": "python",
   "nbconvert_exporter": "python",
   "pygments_lexer": "ipython3",
   "version": "3.6.8"
  }
 },
 "nbformat": 4,
 "nbformat_minor": 1
}
